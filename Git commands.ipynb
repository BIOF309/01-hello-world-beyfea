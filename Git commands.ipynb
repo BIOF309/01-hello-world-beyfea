{
 "cells": [
  {
   "cell_type": "code",
   "execution_count": null,
   "metadata": {},
   "outputs": [],
   "source": [
    "Git useful commands:\n",
    "    git pull #update local repository with remote repository\n",
    "    git add . #coordinate remote with local, prepare for synchronize\n",
    "    git commit -m \"s\" #prepare for synchronization, saying \"yes\", s is the comment on this commit\n",
    "    git push -u origin master #update remote as loca"
   ]
  }
 ],
 "metadata": {
  "kernelspec": {
   "display_name": "Python 3",
   "language": "python",
   "name": "python3"
  },
  "language_info": {
   "codemirror_mode": {
    "name": "ipython",
    "version": 3
   },
   "file_extension": ".py",
   "mimetype": "text/x-python",
   "name": "python",
   "nbconvert_exporter": "python",
   "pygments_lexer": "ipython3",
   "version": "3.6.1"
  }
 },
 "nbformat": 4,
 "nbformat_minor": 2
}
